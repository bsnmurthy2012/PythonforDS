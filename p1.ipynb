str="BSN Murthy
print(str)
